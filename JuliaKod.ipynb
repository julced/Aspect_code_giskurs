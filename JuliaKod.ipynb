{
 "metadata": {
  "language_info": {
   "codemirror_mode": {
    "name": "ipython",
    "version": 3
   },
   "file_extension": ".py",
   "mimetype": "text/x-python",
   "name": "python",
   "nbconvert_exporter": "python",
   "pygments_lexer": "ipython3",
   "version": "3.7.9"
  },
  "orig_nbformat": 2,
  "kernelspec": {
   "name": "python3",
   "display_name": "Python 3.7.9 64-bit (conda)",
   "metadata": {
    "interpreter": {
     "hash": "c06b6db2fdd80b83e631e5901c02f77fb5273628306216b87d8ff3ef56d0e2a8"
    }
   }
  }
 },
 "nbformat": 4,
 "nbformat_minor": 2,
 "cells": [
  {
   "cell_type": "code",
   "execution_count": 1,
   "metadata": {},
   "outputs": [],
   "source": [
    "import numpy as np\n",
    "from osgeo import gdal"
   ]
  },
  {
   "cell_type": "code",
   "execution_count": 2,
   "metadata": {},
   "outputs": [
    {
     "output_type": "stream",
     "name": "stderr",
     "text": [
      "ipykernel_launcher:3: DeprecationWarning: `np.float` is a deprecated alias for the builtin `float`. To silence this warning, use `float` by itself. Doing this will not modify any behavior and is safe. If you specifically wanted the numpy scalar type, use `np.float64` here.\nDeprecated in NumPy 1.20; for more details and guidance: https://numpy.org/devdocs/release/1.20.0-notes.html#deprecations\nipykernel_launcher:9: DeprecationWarning: `np.float` is a deprecated alias for the builtin `float`. To silence this warning, use `float` by itself. Doing this will not modify any behavior and is safe. If you specifically wanted the numpy scalar type, use `np.float64` here.\nDeprecated in NumPy 1.20; for more details and guidance: https://numpy.org/devdocs/release/1.20.0-notes.html#deprecations\n"
     ]
    }
   ],
   "source": [
    "#loading aspect, called flowraster\n",
    "flowraster_file = '/Volumes/NO NAME/masterarbete/SuPy/DataJuliasExercise/flowraster.tif'\n",
    "flowraster = gdal.Open(flowraster_file).ReadAsArray().astype(np.float)\n",
    "flowraster.shape[0] #row in raster\n",
    "flowraster.shape[1] #column in raster\n",
    "\n",
    "# Loading landcover, called lc. loading the file clipped to my polygon\n",
    "lcGrid_file = '/Volumes/NO NAME/masterarbete/SuPy/DataJuliasExercise/landcover.tif'\n",
    "lcGrid = gdal.Open(lcGrid_file).ReadAsArray().astype(np.float)"
   ]
  },
  {
   "cell_type": "code",
   "execution_count": 3,
   "metadata": {},
   "outputs": [],
   "source": [
    "#create empty matrix\n",
    "col = 9\n",
    "row = 7 \n",
    "matrix = np.zeros((row, col))\n",
    "index = 0"
   ]
  },
  {
   "cell_type": "code",
   "execution_count": 4,
   "metadata": {},
   "outputs": [],
   "source": [
    "#Gradantal för varje kompassriktning\n",
    "n = 0. \n",
    "ne = 45.\n",
    "e = 90.\n",
    "se = 135.\n",
    "s = 180.\n",
    "sw = 225.\n",
    "w = 270.\n",
    "nw = 315."
   ]
  },
  {
   "cell_type": "code",
   "execution_count": 5,
   "metadata": {},
   "outputs": [],
   "source": [
    "ToRunOffGrass = 0.\n",
    "ToSoilStoreGrass = 0.4\n",
    "\n",
    "ToRunOffPaved = 0.9\n",
    "ToSoilStorePaved = 0.\n",
    "\n",
    "ToRunOffBuildings = 0.9\n",
    "ToSoilStoreBuildings = 0.\n",
    "\n",
    "ToRunOffEvergreen = 0.\n",
    "ToSoilStoreEvergreen = 0.4\n",
    "\n",
    "ToRunOffDecid = 0.\n",
    "ToSoilStoreDecid = 0.4\n",
    "\n",
    "ToRunOffBareSoil = 0.\n",
    "ToSoilStoreBareSoil = 0.4\n",
    "\n",
    "ToRunOffWater = 0.\n",
    "ToSoilStoreWater = 1.\n",
    "\n",
    "#tillagt\n",
    "ToBldgsPaved = 0.\n",
    "ToGrassPaved = 0.3\n",
    "\n",
    "matrix[0,7] = ToRunOffPaved\n",
    "matrix[0,8] = ToSoilStorePaved\n",
    "\n",
    "matrix[1,7] = ToRunOffBuildings\n",
    "matrix[1,8] = ToSoilStoreBuildings\n",
    "\n",
    "matrix[2,7] = ToRunOffEvergreen\n",
    "matrix[2,8] = ToSoilStoreEvergreen\n",
    "\n",
    "matrix[3,7] = ToRunOffDecid\n",
    "matrix[3,8] = ToSoilStoreDecid\n",
    "\n",
    "matrix[4,7] = ToRunOffGrass\n",
    "matrix[4,8] = ToSoilStoreGrass\n",
    "\n",
    "matrix[5,7] = ToRunOffBareSoil\n",
    "matrix[5,8] = ToSoilStoreBareSoil\n",
    "\n",
    "matrix[6,7] = ToRunOffWater\n",
    "matrix[6,8] = ToSoilStoreWater\n",
    "\n",
    "#försök till att lägga värde som restricted, eller alltså att det inte ska få gå från paved till build\n",
    "matrix[0, 1] = ToBldgsPaved\n",
    "matrix[0, 4] = ToGrassPaved\n"
   ]
  },
  {
   "cell_type": "code",
   "execution_count": 6,
   "metadata": {},
   "outputs": [],
   "source": [
    "for i in np.arange(1, flowraster.shape[0] - 1): \n",
    "    for j in np.arange(1, flowraster.shape[1] - 1):\n",
    "\n",
    "        lcTypeMid = lcGrid[i, j] \n",
    "        nFrac = 0.\n",
    "        neFrac = 0. \n",
    "        eFrac = 0. \n",
    "        seFrac = 0.\n",
    "        sFrac = 0.\n",
    "        swFrac = 0.\n",
    "        wFrac = 0.\n",
    "        nwFrac = 0.\n",
    "        dirflow = flowraster[i, j] \n",
    "        if dirflow == 0.:\n",
    "            dirflow = 360.\n",
    "        if (dirflow >= n) and (dirflow < ne): \n",
    "            flowfrac = (ne -dirflow) / 45.\n",
    "            nFrac = flowfrac\n",
    "            neFrac = 1. - flowfrac\n",
    "        \n",
    "        if (dirflow >= ne) and (dirflow < e):\n",
    "            flowfrac = (e - dirflow) / 45.\n",
    "            neFrac = flowfrac\n",
    "            eFrac = 1. - flowfrac\n",
    "\n",
    "        if (dirflow >=e) and (dirflow < se):\n",
    "            flowfrac = (se - dirflow) / 45.\n",
    "            eFrac = flowfrac\n",
    "            seFrac = 1. - flowfrac\n",
    "            \n",
    "        if (dirflow >=se) and (dirflow < s):\n",
    "            flowfrac = (s - dirflow) / 45.\n",
    "            seFrac = flowfrac\n",
    "            sFrac = 1. - flowfrac \n",
    "            \n",
    "        if (dirflow >= s) and (dirflow < sw):\n",
    "            flowfrac = (sw - dirflow) / 45.\n",
    "            sFrac = flowfrac\n",
    "            swFrac = 1. - flowfrac\n",
    "            \n",
    "        if (dirflow >= sw) and (dirflow < w):\n",
    "            flowfrac = (w - dirflow) / 45.\n",
    "            swFrac = flowfrac\n",
    "            wFrac = 1. - flowfrac\n",
    "            \n",
    "        if (dirflow >= w) and (dirflow < nw):\n",
    "            flowfrac = (nw - dirflow) / 45. \n",
    "            wFrac = flowfrac\n",
    "            nwFrac = 1. - flowfrac\n",
    "            \n",
    "        if (dirflow >= nw):\n",
    "            flowfrac = (360 - dirflow) / 45.\n",
    "            nwFrac = flowfrac\n",
    "            nFrac = 1. - flowfrac\n",
    "        \n",
    "        \n",
    "        \n",
    "        #for k in np.arange(0, 8):\n",
    "        matrixtemp = np.zeros((7, 9))     \n",
    "        if nFrac > 0:\n",
    "            lcType = lcGrid[i - 1, j] #n\n",
    "            if not lcType == lcTypeMid:\n",
    "                matrixtemp[int(lcType - 1), int(lcTypeMid - 1)] = nFrac + matrixtemp[int(lcType - 1), int(lcTypeMid - 1)]\n",
    "        if neFrac > 0:\n",
    "            lcType = lcGrid[i - 1, j + 1] #ne\n",
    "            if not lcType == lcTypeMid:\n",
    "                matrixtemp[int(lcType - 1), int(lcTypeMid - 1)] = neFrac + matrixtemp[int(lcType - 1), int(lcTypeMid - 1)]\n",
    "        if eFrac > 0:\n",
    "            lcType = lcGrid[i, j + 1] #e\n",
    "            if not lcType == lcTypeMid:\n",
    "                matrixtemp[int(lcType - 1), int(lcTypeMid - 1)] = eFrac + matrixtemp[int(lcType - 1), int(lcTypeMid - 1)]\n",
    "        if seFrac > 0:\n",
    "            lcType = lcGrid[i + 1, j + 1] #se\n",
    "            if not lcType == lcTypeMid:\n",
    "                matrixtemp[int(lcType - 1), int(lcTypeMid - 1)] = seFrac + matrixtemp[int(lcType - 1), int(lcTypeMid - 1)]\n",
    "        if sFrac > 0:\n",
    "            lcType = lcGrid[i + 1, j] #s\n",
    "            if not lcType == lcTypeMid:\n",
    "                matrixtemp[int(lcType - 1), int(lcTypeMid - 1)] = sFrac + matrixtemp[int(lcType - 1), int(lcTypeMid - 1)]      \n",
    "        if swFrac > 0:\n",
    "            lcType = lcGrid[i + 1, j - 1] #sw\n",
    "            if not lcType == lcTypeMid:\n",
    "                matrixtemp[int(lcType - 1), int(lcTypeMid - 1)] = swFrac + matrixtemp[int(lcType - 1), int(lcTypeMid - 1)]\n",
    "        if wFrac > 0:\n",
    "            lcType = lcGrid[i, j - 1] #w\n",
    "            if not lcType == lcTypeMid:\n",
    "                matrixtemp[int(lcType - 1), int(lcTypeMid - 1)] = wFrac + matrixtemp[int(lcType - 1), int(lcTypeMid - 1)]\n",
    "        if nwFrac > 0:\n",
    "            lcType = lcGrid[i - 1, j - 1] #nw\n",
    "            if not lcType == lcTypeMid:\n",
    "                matrixtemp[int(lcType - 1), int(lcTypeMid - 1)] = nwFrac + matrixtemp[int(lcType - 1), int(lcTypeMid - 1)]\n",
    "        matrix = matrix + matrixtemp\n",
    "        index += 1\n",
    "        test = 4"
   ]
  },
  {
   "cell_type": "code",
   "execution_count": 7,
   "metadata": {},
   "outputs": [
    {
     "output_type": "stream",
     "name": "stderr",
     "text": [
      "ipykernel_launcher:5: RuntimeWarning: invalid value encountered in double_scalars\n"
     ]
    }
   ],
   "source": [
    "matrixfinal = np.copy(matrix)\n",
    "for o in range(0, 7): #rad\n",
    "    sumtemp = np.sum(matrixfinal[o,:6])\n",
    "    for p in range(0, 7): #kolumn\n",
    "        matrixfinal[o, p] = (matrixfinal[o, p] / sumtemp) * (1 - (matrix[o, 7] + matrix[o, 8]))"
   ]
  },
  {
   "cell_type": "code",
   "execution_count": 8,
   "metadata": {},
   "outputs": [],
   "source": [
    "test = 5\n",
    "\n",
    "header = 'Paved Buildings Evergreen Deciduous Grass Baresoil Water ToRunOff ToSoilStore'\n",
    "numformat = '%8.2f '* 9\n",
    "np.savetxt('/Volumes/NO NAME/masterarbete/SuPy/DataJuliasExercise/VilleLcAspectTEST.txt', matrixfinal, fmt=numformat, header=header, delimiter=' , ')"
   ]
  },
  {
   "cell_type": "code",
   "execution_count": null,
   "metadata": {},
   "outputs": [],
   "source": []
  }
 ]
}